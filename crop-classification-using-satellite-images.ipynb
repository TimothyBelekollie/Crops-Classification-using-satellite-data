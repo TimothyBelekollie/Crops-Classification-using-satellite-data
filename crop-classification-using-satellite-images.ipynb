{
 "cells": [
  {
   "cell_type": "code",
   "execution_count": null,
   "metadata": {
    "trusted": true
   },
   "outputs": [],
   "source": [
    "!pip install xgboost --quiet"
   ]
  },
  {
   "cell_type": "code",
   "execution_count": null,
   "metadata": {
    "_cell_guid": "b1076dfc-b9ad-4769-8c92-a6c4dae69d19",
    "_uuid": "8f2839f25d086af736a60e9eeb907d3b93b6e0e5",
    "execution": {
     "iopub.execute_input": "2025-03-05T18:53:23.689218Z",
     "iopub.status.busy": "2025-03-05T18:53:23.688887Z",
     "iopub.status.idle": "2025-03-05T18:53:23.694608Z",
     "shell.execute_reply": "2025-03-05T18:53:23.693190Z",
     "shell.execute_reply.started": "2025-03-05T18:53:23.689189Z"
    },
    "trusted": true
   },
   "outputs": [],
   "source": [
    "import numpy as np\n",
    "import pandas as pd\n",
    "import matplotlib.pyplot as plt\n",
    "import seaborn as sns\n",
    "from sklearn.model_selection import train_test_split, GridSearchCV\n",
    "from sklearn.preprocessing import StandardScaler, LabelEncoder\n",
    "from sklearn.ensemble import RandomForestClassifier\n",
    "from sklearn.metrics import classification_report, f1_score\n",
    "import xgboost as xgb  # Import XGBoost\n",
    "\n",
    "import ast  #Import the ast library\n",
    "from sklearn.model_selection import train_test_split, GridSearchCV\n",
    "from sklearn.ensemble import RandomForestClassifier, VotingClassifier\n"
   ]
  },
  {
   "cell_type": "code",
   "execution_count": null,
   "metadata": {
    "execution": {
     "iopub.execute_input": "2025-03-05T18:53:26.975329Z",
     "iopub.status.busy": "2025-03-05T18:53:26.974966Z",
     "iopub.status.idle": "2025-03-05T18:53:27.026903Z",
     "shell.execute_reply": "2025-03-05T18:53:27.025681Z",
     "shell.execute_reply.started": "2025-03-05T18:53:26.975283Z"
    },
    "trusted": true
   },
   "outputs": [],
   "source": [
    "# Load Data (Update file paths as needed)\n",
    "train_data = pd.read_csv('/kaggle/input/ml-4-eo-s-2025-crop-classification-challenge/train.csv', sep=',')\n",
    "test_data= pd.read_csv('/kaggle/input/ml-4-eo-s-2025-crop-classification-challenge/test.csv', sep=',')"
   ]
  },
  {
   "cell_type": "code",
   "execution_count": null,
   "metadata": {
    "execution": {
     "iopub.execute_input": "2025-03-05T18:53:28.764499Z",
     "iopub.status.busy": "2025-03-05T18:53:28.764123Z",
     "iopub.status.idle": "2025-03-05T18:53:28.778793Z",
     "shell.execute_reply": "2025-03-05T18:53:28.777559Z",
     "shell.execute_reply.started": "2025-03-05T18:53:28.764471Z"
    },
    "trusted": true
   },
   "outputs": [],
   "source": [
    "train_data.head()"
   ]
  },
  {
   "cell_type": "code",
   "execution_count": null,
   "metadata": {
    "execution": {
     "iopub.execute_input": "2025-03-05T18:53:31.777476Z",
     "iopub.status.busy": "2025-03-05T18:53:31.777100Z",
     "iopub.status.idle": "2025-03-05T18:53:31.793021Z",
     "shell.execute_reply": "2025-03-05T18:53:31.791861Z",
     "shell.execute_reply.started": "2025-03-05T18:53:31.777442Z"
    },
    "trusted": true
   },
   "outputs": [],
   "source": [
    "test_data.head()"
   ]
  },
  {
   "cell_type": "code",
   "execution_count": null,
   "metadata": {
    "execution": {
     "iopub.execute_input": "2025-03-05T18:53:36.831035Z",
     "iopub.status.busy": "2025-03-05T18:53:36.830721Z",
     "iopub.status.idle": "2025-03-05T18:53:37.890592Z",
     "shell.execute_reply": "2025-03-05T18:53:37.889737Z",
     "shell.execute_reply.started": "2025-03-05T18:53:36.831009Z"
    },
    "trusted": true
   },
   "outputs": [],
   "source": [
    "\n",
    "\n",
    "# Assuming train_data and test_data are already defined\n",
    "train_df = train_data.copy()\n",
    "test_df = test_data.copy()\n",
    "\n",
    "# Function to safely evaluate string representations of lists\n",
    "def safe_eval(x):\n",
    "    try:\n",
    "        return ast.literal_eval(x)  # Convert string list to actual list\n",
    "    except:\n",
    "        return x  # Return original value if conversion fails\n",
    "\n",
    "# Function to process the DataFrame\n",
    "def process_dataframe(df):\n",
    "    for col in df.columns:\n",
    "        df[col] = df[col].apply(safe_eval)\n",
    "    return df\n",
    "\n",
    "# Process training and test data\n",
    "train_df_processed = process_dataframe(train_df)\n",
    "test_df_processed = process_dataframe(test_df)\n",
    "\n",
    "# Check for columns that still have lists (nested data)\n",
    "list_columns = [col for col in train_df_processed.columns if isinstance(train_df_processed[col].iloc[0], list)]\n",
    "print(f\"Columns containing lists: {list_columns}\")\n",
    "\n",
    "# Flatten list columns (expand into multiple columns)\n",
    "def expand_list_columns(df, list_columns):\n",
    "    for col in list_columns:\n",
    "        max_length = max(df[col].apply(lambda x: len(x) if isinstance(x, list) else 0))  # Find max list length\n",
    "        for i in range(max_length):\n",
    "            df[f\"{col}_{i+1}\"] = df[col].apply(lambda x: x[i] if isinstance(x, list) and len(x) > i else None)\n",
    "        df.drop(columns=[col], inplace=True)  # Drop original list column\n",
    "    return df\n",
    "\n",
    "# Apply expansion to train and test data\n",
    "train_df_final = expand_list_columns(train_df_processed, list_columns)\n",
    "test_df_final = expand_list_columns(test_df_processed, list_columns)\n",
    "\n",
    "# Verify the processed DataFrames\n",
    "print(\"\\nProcessed training data (after expansion):\")\n",
    "print(train_df_final.head())\n",
    "print(train_df_final.dtypes)\n",
    "\n",
    "print(\"\\nProcessed test data (after expansion):\")\n",
    "print(test_df_final.head())\n",
    "print(test_df_final.dtypes)\n"
   ]
  },
  {
   "cell_type": "code",
   "execution_count": null,
   "metadata": {
    "execution": {
     "iopub.execute_input": "2025-03-05T18:53:53.205684Z",
     "iopub.status.busy": "2025-03-05T18:53:53.205294Z",
     "iopub.status.idle": "2025-03-05T18:53:53.220184Z",
     "shell.execute_reply": "2025-03-05T18:53:53.218791Z",
     "shell.execute_reply.started": "2025-03-05T18:53:53.205653Z"
    },
    "trusted": true
   },
   "outputs": [],
   "source": [
    "# Check for missing values in both datasets\n",
    "print(\"Missing values in training data:\")\n",
    "print(train_df_final.isnull().sum().sum())\n",
    "\n",
    "print(\"\\nMissing values in test data:\")\n",
    "print(test_df_final.isnull().sum().sum())\n"
   ]
  },
  {
   "cell_type": "code",
   "execution_count": null,
   "metadata": {
    "execution": {
     "iopub.execute_input": "2025-03-05T18:54:24.133052Z",
     "iopub.status.busy": "2025-03-05T18:54:24.132727Z",
     "iopub.status.idle": "2025-03-05T18:54:24.146135Z",
     "shell.execute_reply": "2025-03-05T18:54:24.145155Z",
     "shell.execute_reply.started": "2025-03-05T18:54:24.133026Z"
    },
    "trusted": true
   },
   "outputs": [],
   "source": [
    "print(\"Columns with missing values in test data:\")\n",
    "print(test_df_final.isnull().sum()[test_df_final.isnull().sum() > 0])\n"
   ]
  },
  {
   "cell_type": "code",
   "execution_count": null,
   "metadata": {
    "execution": {
     "iopub.execute_input": "2025-03-05T18:55:31.878885Z",
     "iopub.status.busy": "2025-03-05T18:55:31.878559Z",
     "iopub.status.idle": "2025-03-05T18:55:31.891925Z",
     "shell.execute_reply": "2025-03-05T18:55:31.890668Z",
     "shell.execute_reply.started": "2025-03-05T18:55:31.878858Z"
    },
    "trusted": true
   },
   "outputs": [],
   "source": [
    "test_df_final[['EVI_1', 'EVI_2', 'EVI_3', 'EVI_4']] = test_df_final[['EVI_1', 'EVI_2', 'EVI_3', 'EVI_4']].fillna(test_df_final.mean())\n"
   ]
  },
  {
   "cell_type": "code",
   "execution_count": null,
   "metadata": {
    "execution": {
     "iopub.execute_input": "2025-03-05T18:55:36.170717Z",
     "iopub.status.busy": "2025-03-05T18:55:36.170357Z",
     "iopub.status.idle": "2025-03-05T18:55:36.184013Z",
     "shell.execute_reply": "2025-03-05T18:55:36.182916Z",
     "shell.execute_reply.started": "2025-03-05T18:55:36.170667Z"
    },
    "trusted": true
   },
   "outputs": [],
   "source": [
    "print(\"Columns with missing values in test data:\")\n",
    "print(test_df_final.isnull().sum()[test_df_final.isnull().sum() > 0])"
   ]
  },
  {
   "cell_type": "code",
   "execution_count": null,
   "metadata": {
    "execution": {
     "iopub.execute_input": "2025-03-05T18:55:46.221090Z",
     "iopub.status.busy": "2025-03-05T18:55:46.220760Z",
     "iopub.status.idle": "2025-03-05T18:55:46.235965Z",
     "shell.execute_reply": "2025-03-05T18:55:46.234551Z",
     "shell.execute_reply.started": "2025-03-05T18:55:46.221059Z"
    },
    "trusted": true
   },
   "outputs": [],
   "source": [
    "print(\"\\nChecking for infinity values in test data:\")\n",
    "print((test_df_final == np.inf).sum().sum() + (test_df_final == -np.inf).sum().sum())\n"
   ]
  },
  {
   "cell_type": "code",
   "execution_count": null,
   "metadata": {
    "execution": {
     "iopub.execute_input": "2025-03-05T18:38:24.555944Z",
     "iopub.status.busy": "2025-03-05T18:38:24.555633Z",
     "iopub.status.idle": "2025-03-05T18:38:24.575069Z",
     "shell.execute_reply": "2025-03-05T18:38:24.573724Z",
     "shell.execute_reply.started": "2025-03-05T18:38:24.555917Z"
    },
    "trusted": true
   },
   "outputs": [],
   "source": [
    "# test_df_final.replace([np.inf, -np.inf], 1e6, inplace=True)\n"
   ]
  },
  {
   "cell_type": "code",
   "execution_count": null,
   "metadata": {
    "execution": {
     "iopub.execute_input": "2025-03-05T18:57:12.512563Z",
     "iopub.status.busy": "2025-03-05T18:57:12.512188Z",
     "iopub.status.idle": "2025-03-05T18:57:12.519221Z",
     "shell.execute_reply": "2025-03-05T18:57:12.518569Z",
     "shell.execute_reply.started": "2025-03-05T18:57:12.512537Z"
    },
    "trusted": true
   },
   "outputs": [],
   "source": [
    "test_df=test_df_final.copy()\n",
    "train_df=train_df_final.copy()"
   ]
  },
  {
   "cell_type": "code",
   "execution_count": null,
   "metadata": {
    "execution": {
     "iopub.execute_input": "2025-03-05T18:57:20.746749Z",
     "iopub.status.busy": "2025-03-05T18:57:20.746421Z",
     "iopub.status.idle": "2025-03-05T18:57:20.750750Z",
     "shell.execute_reply": "2025-03-05T18:57:20.749385Z",
     "shell.execute_reply.started": "2025-03-05T18:57:20.746724Z"
    },
    "trusted": true
   },
   "outputs": [],
   "source": []
  },
  {
   "cell_type": "code",
   "execution_count": null,
   "metadata": {
    "execution": {
     "iopub.execute_input": "2025-03-05T18:57:29.163983Z",
     "iopub.status.busy": "2025-03-05T18:57:29.163617Z",
     "iopub.status.idle": "2025-03-05T18:57:29.167509Z",
     "shell.execute_reply": "2025-03-05T18:57:29.166634Z",
     "shell.execute_reply.started": "2025-03-05T18:57:29.163952Z"
    },
    "trusted": true
   },
   "outputs": [],
   "source": []
  },
  {
   "cell_type": "code",
   "execution_count": null,
   "metadata": {
    "trusted": true
   },
   "outputs": [],
   "source": []
  },
  {
   "cell_type": "code",
   "execution_count": null,
   "metadata": {
    "execution": {
     "iopub.execute_input": "2025-03-05T18:57:38.974427Z",
     "iopub.status.busy": "2025-03-05T18:57:38.974064Z",
     "iopub.status.idle": "2025-03-05T18:57:38.995294Z",
     "shell.execute_reply": "2025-03-05T18:57:38.993622Z",
     "shell.execute_reply.started": "2025-03-05T18:57:38.974400Z"
    },
    "trusted": true
   },
   "outputs": [],
   "source": [
    "import pandas as pd\n",
    "\n",
    "\n",
    "\n",
    "# Encode crop labels\n",
    "label_mapping = {\n",
    "    'Maize': 1,\n",
    "    'Sorghum': 2,\n",
    "    'Tree': 3,\n",
    "    'Built': 4,\n",
    "    'Bare_Soil': 5,\n",
    "    'Water': 6\n",
    "}\n",
    "\n",
    "train_df['encoded_label'] = train_df['crop_label'].map(label_mapping)\n",
    "\n",
    "# Print the encoded training dataframe\n",
    "print(\"Encoded Training Data:\")\n",
    "print(train_df)\n",
    "\n"
   ]
  },
  {
   "cell_type": "code",
   "execution_count": null,
   "metadata": {
    "execution": {
     "iopub.execute_input": "2025-03-05T18:57:51.193853Z",
     "iopub.status.busy": "2025-03-05T18:57:51.193491Z",
     "iopub.status.idle": "2025-03-05T18:57:51.202720Z",
     "shell.execute_reply": "2025-03-05T18:57:51.201809Z",
     "shell.execute_reply.started": "2025-03-05T18:57:51.193822Z"
    },
    "trusted": true
   },
   "outputs": [],
   "source": [
    "train_df.isna().sum().sum()"
   ]
  },
  {
   "cell_type": "code",
   "execution_count": null,
   "metadata": {
    "execution": {
     "iopub.execute_input": "2025-03-05T18:57:53.966488Z",
     "iopub.status.busy": "2025-03-05T18:57:53.966130Z",
     "iopub.status.idle": "2025-03-05T18:57:53.974039Z",
     "shell.execute_reply": "2025-03-05T18:57:53.973095Z",
     "shell.execute_reply.started": "2025-03-05T18:57:53.966460Z"
    },
    "trusted": true
   },
   "outputs": [],
   "source": [
    "test_df.isna().sum().sum()"
   ]
  },
  {
   "cell_type": "code",
   "execution_count": null,
   "metadata": {
    "execution": {
     "iopub.execute_input": "2025-03-05T18:39:43.331930Z",
     "iopub.status.busy": "2025-03-05T18:39:43.331628Z",
     "iopub.status.idle": "2025-03-05T18:39:43.336111Z",
     "shell.execute_reply": "2025-03-05T18:39:43.334697Z",
     "shell.execute_reply.started": "2025-03-05T18:39:43.331905Z"
    },
    "trusted": true
   },
   "outputs": [],
   "source": []
  },
  {
   "cell_type": "code",
   "execution_count": null,
   "metadata": {
    "execution": {
     "iopub.execute_input": "2025-03-05T18:39:51.158696Z",
     "iopub.status.busy": "2025-03-05T18:39:51.158376Z",
     "iopub.status.idle": "2025-03-05T18:39:51.162041Z",
     "shell.execute_reply": "2025-03-05T18:39:51.161125Z",
     "shell.execute_reply.started": "2025-03-05T18:39:51.158670Z"
    },
    "trusted": true
   },
   "outputs": [],
   "source": [
    "\n"
   ]
  },
  {
   "cell_type": "code",
   "execution_count": null,
   "metadata": {
    "execution": {
     "iopub.execute_input": "2025-03-05T18:57:57.910471Z",
     "iopub.status.busy": "2025-03-05T18:57:57.910006Z",
     "iopub.status.idle": "2025-03-05T18:57:57.916968Z",
     "shell.execute_reply": "2025-03-05T18:57:57.915373Z",
     "shell.execute_reply.started": "2025-03-05T18:57:57.910447Z"
    },
    "trusted": true
   },
   "outputs": [],
   "source": [
    "test_df.shape"
   ]
  },
  {
   "cell_type": "code",
   "execution_count": null,
   "metadata": {
    "execution": {
     "iopub.execute_input": "2025-03-05T18:58:00.397052Z",
     "iopub.status.busy": "2025-03-05T18:58:00.396757Z",
     "iopub.status.idle": "2025-03-05T18:58:00.404003Z",
     "shell.execute_reply": "2025-03-05T18:58:00.402705Z",
     "shell.execute_reply.started": "2025-03-05T18:58:00.397029Z"
    },
    "trusted": true
   },
   "outputs": [],
   "source": [
    "train_df.shape"
   ]
  },
  {
   "cell_type": "code",
   "execution_count": null,
   "metadata": {
    "execution": {
     "iopub.execute_input": "2025-03-05T18:40:48.169174Z",
     "iopub.status.busy": "2025-03-05T18:40:48.168851Z",
     "iopub.status.idle": "2025-03-05T18:40:48.177793Z",
     "shell.execute_reply": "2025-03-05T18:40:48.176492Z",
     "shell.execute_reply.started": "2025-03-05T18:40:48.169145Z"
    },
    "trusted": true
   },
   "outputs": [],
   "source": []
  },
  {
   "cell_type": "code",
   "execution_count": null,
   "metadata": {
    "execution": {
     "iopub.execute_input": "2025-03-05T18:58:14.768136Z",
     "iopub.status.busy": "2025-03-05T18:58:14.767795Z",
     "iopub.status.idle": "2025-03-05T18:58:14.781713Z",
     "shell.execute_reply": "2025-03-05T18:58:14.780874Z",
     "shell.execute_reply.started": "2025-03-05T18:58:14.768106Z"
    },
    "trusted": true
   },
   "outputs": [],
   "source": [
    "\n",
    "\n",
    "# Replace positive and negative infinity with a large number (e.g., 1e6)\n",
    "test_df.replace([np.inf, -np.inf], 1e6, inplace=True)\n",
    "\n",
    "# If you want to check that no inf values remain:\n",
    "print(test_df.isin([np.inf, -np.inf]).sum().sum())  # Should print 0 if no more inf values\n"
   ]
  },
  {
   "cell_type": "code",
   "execution_count": null,
   "metadata": {
    "execution": {
     "iopub.execute_input": "2025-03-05T18:58:18.159613Z",
     "iopub.status.busy": "2025-03-05T18:58:18.159205Z",
     "iopub.status.idle": "2025-03-05T18:58:18.165908Z",
     "shell.execute_reply": "2025-03-05T18:58:18.164966Z",
     "shell.execute_reply.started": "2025-03-05T18:58:18.159587Z"
    },
    "trusted": true
   },
   "outputs": [],
   "source": [
    "test_df.isna().sum().sum()"
   ]
  },
  {
   "cell_type": "code",
   "execution_count": null,
   "metadata": {
    "execution": {
     "iopub.execute_input": "2025-03-05T18:13:30.147119Z",
     "iopub.status.busy": "2025-03-05T18:13:30.146920Z",
     "iopub.status.idle": "2025-03-05T18:13:30.171157Z",
     "shell.execute_reply": "2025-03-05T18:13:30.170000Z",
     "shell.execute_reply.started": "2025-03-05T18:13:30.147101Z"
    },
    "trusted": true
   },
   "outputs": [],
   "source": []
  },
  {
   "cell_type": "code",
   "execution_count": null,
   "metadata": {
    "execution": {
     "iopub.execute_input": "2025-03-05T18:13:30.174509Z",
     "iopub.status.busy": "2025-03-05T18:13:30.174209Z",
     "iopub.status.idle": "2025-03-05T18:13:30.197378Z",
     "shell.execute_reply": "2025-03-05T18:13:30.195584Z",
     "shell.execute_reply.started": "2025-03-05T18:13:30.174483Z"
    },
    "trusted": true
   },
   "outputs": [],
   "source": []
  },
  {
   "cell_type": "code",
   "execution_count": null,
   "metadata": {
    "execution": {
     "iopub.execute_input": "2025-03-05T18:58:37.086506Z",
     "iopub.status.busy": "2025-03-05T18:58:37.086046Z",
     "iopub.status.idle": "2025-03-05T18:58:37.095282Z",
     "shell.execute_reply": "2025-03-05T18:58:37.093933Z",
     "shell.execute_reply.started": "2025-03-05T18:58:37.086475Z"
    },
    "trusted": true
   },
   "outputs": [],
   "source": [
    "test_df.isna().sum().sum()"
   ]
  },
  {
   "cell_type": "code",
   "execution_count": null,
   "metadata": {
    "execution": {
     "iopub.execute_input": "2025-03-05T18:58:42.870008Z",
     "iopub.status.busy": "2025-03-05T18:58:42.869728Z",
     "iopub.status.idle": "2025-03-05T18:58:42.875753Z",
     "shell.execute_reply": "2025-03-05T18:58:42.874457Z",
     "shell.execute_reply.started": "2025-03-05T18:58:42.869985Z"
    },
    "trusted": true
   },
   "outputs": [],
   "source": [
    "test_df.shape"
   ]
  },
  {
   "cell_type": "code",
   "execution_count": null,
   "metadata": {
    "execution": {
     "iopub.execute_input": "2025-03-05T18:21:19.914036Z",
     "iopub.status.busy": "2025-03-05T18:21:19.913714Z",
     "iopub.status.idle": "2025-03-05T18:21:19.922174Z",
     "shell.execute_reply": "2025-03-05T18:21:19.920692Z",
     "shell.execute_reply.started": "2025-03-05T18:21:19.914009Z"
    },
    "trusted": true
   },
   "outputs": [],
   "source": [
    "# Check the data types of each column\n",
    "print(test_df.dtypes)\n",
    "\n",
    "# Identify columns with non-numeric data\n",
    "non_numeric_columns = test_df.select_dtypes(exclude=['number']).columns\n",
    "print(\"Non-numeric columns:\", non_numeric_columns)\n"
   ]
  },
  {
   "cell_type": "code",
   "execution_count": null,
   "metadata": {
    "execution": {
     "iopub.execute_input": "2025-03-05T18:59:05.825003Z",
     "iopub.status.busy": "2025-03-05T18:59:05.824694Z",
     "iopub.status.idle": "2025-03-05T18:59:05.831060Z",
     "shell.execute_reply": "2025-03-05T18:59:05.829769Z",
     "shell.execute_reply.started": "2025-03-05T18:59:05.824977Z"
    },
    "trusted": true
   },
   "outputs": [],
   "source": [
    "print(test_df['EVI_1'].head())\n"
   ]
  },
  {
   "cell_type": "code",
   "execution_count": null,
   "metadata": {
    "execution": {
     "iopub.execute_input": "2025-03-05T18:25:09.276946Z",
     "iopub.status.busy": "2025-03-05T18:25:09.276609Z",
     "iopub.status.idle": "2025-03-05T18:25:09.291431Z",
     "shell.execute_reply": "2025-03-05T18:25:09.290325Z",
     "shell.execute_reply.started": "2025-03-05T18:25:09.276918Z"
    },
    "trusted": true
   },
   "outputs": [],
   "source": []
  },
  {
   "cell_type": "code",
   "execution_count": null,
   "metadata": {
    "execution": {
     "iopub.execute_input": "2025-03-05T18:25:12.435984Z",
     "iopub.status.busy": "2025-03-05T18:25:12.435644Z",
     "iopub.status.idle": "2025-03-05T18:25:12.443066Z",
     "shell.execute_reply": "2025-03-05T18:25:12.441405Z",
     "shell.execute_reply.started": "2025-03-05T18:25:12.435957Z"
    },
    "trusted": true
   },
   "outputs": [],
   "source": [
    "\n"
   ]
  },
  {
   "cell_type": "code",
   "execution_count": null,
   "metadata": {
    "execution": {
     "iopub.execute_input": "2025-03-05T18:59:42.499613Z",
     "iopub.status.busy": "2025-03-05T18:59:42.499290Z",
     "iopub.status.idle": "2025-03-05T18:59:42.520388Z",
     "shell.execute_reply": "2025-03-05T18:59:42.518871Z",
     "shell.execute_reply.started": "2025-03-05T18:59:42.499585Z"
    },
    "trusted": true
   },
   "outputs": [],
   "source": [
    "train_df.head()"
   ]
  },
  {
   "cell_type": "code",
   "execution_count": null,
   "metadata": {
    "execution": {
     "iopub.execute_input": "2025-03-05T18:13:30.279858Z",
     "iopub.status.busy": "2025-03-05T18:13:30.279558Z",
     "iopub.status.idle": "2025-03-05T18:13:30.298705Z",
     "shell.execute_reply": "2025-03-05T18:13:30.297190Z",
     "shell.execute_reply.started": "2025-03-05T18:13:30.279828Z"
    },
    "trusted": true
   },
   "outputs": [],
   "source": [
    "\n"
   ]
  },
  {
   "cell_type": "code",
   "execution_count": null,
   "metadata": {
    "execution": {
     "iopub.execute_input": "2025-03-05T18:13:30.300043Z",
     "iopub.status.busy": "2025-03-05T18:13:30.299746Z",
     "iopub.status.idle": "2025-03-05T18:13:30.320418Z",
     "shell.execute_reply": "2025-03-05T18:13:30.319043Z",
     "shell.execute_reply.started": "2025-03-05T18:13:30.300014Z"
    },
    "trusted": true
   },
   "outputs": [],
   "source": [
    "\n"
   ]
  },
  {
   "cell_type": "code",
   "execution_count": null,
   "metadata": {
    "execution": {
     "iopub.execute_input": "2025-03-05T18:15:49.137285Z",
     "iopub.status.busy": "2025-03-05T18:15:49.136910Z",
     "iopub.status.idle": "2025-03-05T18:15:49.141683Z",
     "shell.execute_reply": "2025-03-05T18:15:49.140636Z",
     "shell.execute_reply.started": "2025-03-05T18:15:49.137221Z"
    },
    "trusted": true
   },
   "outputs": [],
   "source": []
  },
  {
   "cell_type": "code",
   "execution_count": null,
   "metadata": {
    "execution": {
     "iopub.execute_input": "2025-03-05T18:15:55.621937Z",
     "iopub.status.busy": "2025-03-05T18:15:55.621596Z",
     "iopub.status.idle": "2025-03-05T18:15:55.626601Z",
     "shell.execute_reply": "2025-03-05T18:15:55.625343Z",
     "shell.execute_reply.started": "2025-03-05T18:15:55.621905Z"
    },
    "trusted": true
   },
   "outputs": [],
   "source": [
    "\n"
   ]
  },
  {
   "cell_type": "code",
   "execution_count": null,
   "metadata": {
    "execution": {
     "iopub.execute_input": "2025-03-05T18:59:52.774869Z",
     "iopub.status.busy": "2025-03-05T18:59:52.774560Z",
     "iopub.status.idle": "2025-03-05T18:59:52.781683Z",
     "shell.execute_reply": "2025-03-05T18:59:52.780580Z",
     "shell.execute_reply.started": "2025-03-05T18:59:52.774843Z"
    },
    "trusted": true
   },
   "outputs": [],
   "source": [
    "test_df.shape"
   ]
  },
  {
   "cell_type": "code",
   "execution_count": null,
   "metadata": {
    "execution": {
     "iopub.execute_input": "2025-03-05T18:59:57.509401Z",
     "iopub.status.busy": "2025-03-05T18:59:57.508985Z",
     "iopub.status.idle": "2025-03-05T18:59:57.530153Z",
     "shell.execute_reply": "2025-03-05T18:59:57.528858Z",
     "shell.execute_reply.started": "2025-03-05T18:59:57.509368Z"
    },
    "trusted": true
   },
   "outputs": [],
   "source": [
    "test_df.head()"
   ]
  },
  {
   "cell_type": "code",
   "execution_count": null,
   "metadata": {
    "execution": {
     "iopub.execute_input": "2025-03-05T18:16:13.691868Z",
     "iopub.status.busy": "2025-03-05T18:16:13.691505Z",
     "iopub.status.idle": "2025-03-05T18:16:13.695960Z",
     "shell.execute_reply": "2025-03-05T18:16:13.695058Z",
     "shell.execute_reply.started": "2025-03-05T18:16:13.691837Z"
    },
    "trusted": true
   },
   "outputs": [],
   "source": []
  },
  {
   "cell_type": "code",
   "execution_count": null,
   "metadata": {
    "execution": {
     "iopub.execute_input": "2025-03-05T18:16:28.294134Z",
     "iopub.status.busy": "2025-03-05T18:16:28.293797Z",
     "iopub.status.idle": "2025-03-05T18:16:28.298989Z",
     "shell.execute_reply": "2025-03-05T18:16:28.297733Z",
     "shell.execute_reply.started": "2025-03-05T18:16:28.294106Z"
    },
    "trusted": true
   },
   "outputs": [],
   "source": []
  },
  {
   "cell_type": "code",
   "execution_count": null,
   "metadata": {
    "execution": {
     "iopub.execute_input": "2025-03-05T19:01:07.102278Z",
     "iopub.status.busy": "2025-03-05T19:01:07.101921Z",
     "iopub.status.idle": "2025-03-05T19:01:07.107989Z",
     "shell.execute_reply": "2025-03-05T19:01:07.106669Z",
     "shell.execute_reply.started": "2025-03-05T19:01:07.102247Z"
    },
    "trusted": true
   },
   "outputs": [],
   "source": [
    "test_df.shape\n"
   ]
  },
  {
   "cell_type": "code",
   "execution_count": null,
   "metadata": {
    "execution": {
     "iopub.execute_input": "2025-03-05T19:01:09.947534Z",
     "iopub.status.busy": "2025-03-05T19:01:09.947079Z",
     "iopub.status.idle": "2025-03-05T19:01:09.968575Z",
     "shell.execute_reply": "2025-03-05T19:01:09.967396Z",
     "shell.execute_reply.started": "2025-03-05T19:01:09.947502Z"
    },
    "trusted": true
   },
   "outputs": [],
   "source": [
    "test_df.head()"
   ]
  },
  {
   "cell_type": "code",
   "execution_count": null,
   "metadata": {
    "execution": {
     "iopub.execute_input": "2025-03-05T19:01:24.008214Z",
     "iopub.status.busy": "2025-03-05T19:01:24.007848Z"
    },
    "trusted": true
   },
   "outputs": [],
   "source": [
    "\n",
    "\n",
    "# # Load your training and test datasets\n",
    "# train_df = pd.read_csv('train.csv')  # Make sure to load your actual data\n",
    "# test_df = pd.read_csv('test.csv')  # Similarly, load your test data for submission\n",
    "\n",
    "# Separate features (X) and target (y) from the training data\n",
    "X = train_df.drop(columns=['crop_label', 'encoded_label'])  # Dropping non-feature columns\n",
    "y = train_df['encoded_label']\n",
    "\n",
    "# Split data into train and test sets for model validation\n",
    "X_train, X_test, y_train, y_test = train_test_split(X, y, test_size=0.2, shuffle=True, random_state=42)\n",
    "\n",
    "# Standardize features using StandardScaler (only fit on training data)\n",
    "scaler = StandardScaler()\n",
    "X_train_scaled = scaler.fit_transform(X_train)  # Fit and transform the training data\n",
    "X_test_scaled = scaler.transform(X_test)  # Transform the test set using the same scaler\n",
    "\n",
    "# Prepare the test data (test_df) for final predictions (field_id is not a feature)\n",
    "X_test_final = test_df.drop(columns=['field_id'])  # Drop non-feature columns (ID column)\n",
    "X_test_final_scaled = scaler.transform(X_test_final)  # Transform the external test dataset (test_df)\n",
    "\n",
    "# Define the best parameter grids for Random Forest and XGBoost\n",
    "\n",
    "# Random Forest Hyperparameters\n",
    "rf_param_grid = {\n",
    "    'n_estimators': [100, 200, 300],\n",
    "    'max_depth': [None, 10, 20, 30],\n",
    "    'min_samples_split': [2, 5, 10],\n",
    "    'min_samples_leaf': [1, 2, 4],\n",
    "    'max_features': ['auto', 'sqrt', 'log2'],\n",
    "    'bootstrap': [True, False]\n",
    "}\n",
    "\n",
    "# XGBoost Hyperparameters\n",
    "xgb_param_grid = {\n",
    "    \"n_estimators\": [150, 200, 250, 300],\n",
    "    \"max_depth\": [5, 6, 7, 8],\n",
    "    \"learning_rate\": [0.05, 0.1, 0.2],\n",
    "    \"colsample_bytree\": [0.7, 0.8, 0.9],\n",
    "    \"gamma\": [0, 0.1, 0.2],\n",
    "    \"scale_pos_weight\": [1]  # No severe class imbalance\n",
    "}\n",
    "\n",
    "# Initialize models\n",
    "rf_model = RandomForestClassifier(random_state=42)\n",
    "xgb_model = xgb.XGBClassifier(random_state=42)\n",
    "\n",
    "# Perform GridSearchCV for RandomForest\n",
    "rf_grid_search = GridSearchCV(rf_model, rf_param_grid, cv=5, scoring='f1_weighted', verbose=2, n_jobs=-1)\n",
    "rf_grid_search.fit(X_train_scaled, y_train)\n",
    "\n",
    "# Perform GridSearchCV for XGBoost\n",
    "xgb_grid_search = GridSearchCV(xgb_model, xgb_param_grid, cv=5, scoring='f1_weighted', verbose=2, n_jobs=-1)\n",
    "xgb_grid_search.fit(X_train_scaled, y_train)\n",
    "\n",
    "# Get the best models after tuning\n",
    "best_rf_model = rf_grid_search.best_estimator_\n",
    "best_xgb_model = xgb_grid_search.best_estimator_\n",
    "\n",
    "# Create a Voting Classifier using the best models from GridSearchCV\n",
    "voting_clf = VotingClassifier(estimators=[('rf', best_rf_model), ('xgb', best_xgb_model)], voting='hard')\n",
    "\n",
    "# Train the voting classifier on the training data\n",
    "voting_clf.fit(X_train_scaled, y_train)\n",
    "\n",
    "# Make predictions with the voting classifier on the test data\n",
    "voting_predictions = voting_clf.predict(X_test_final_scaled)\n",
    "\n",
    "# Create the submission DataFrame\n",
    "submission_df = pd.DataFrame({\n",
    "    'field_id': test_df['field_id'],  # Extract 'field_id' from test_df to keep track of the rows\n",
    "    'encoded_label': voting_predictions  # The final predicted labels after voting\n",
    "})\n",
    "\n",
    "# Save the submission file\n",
    "submission_df.to_csv('submission1.csv', index=False)\n",
    "\n",
    "# Optionally print the best parameters and scores for both models\n",
    "print(f\"Best Random Forest Hyperparameters: {rf_grid_search.best_params_}\")\n",
    "print(f\"Best XGBoost Hyperparameters: {xgb_grid_search.best_params_}\")\n"
   ]
  },
  {
   "cell_type": "code",
   "execution_count": null,
   "metadata": {
    "trusted": true
   },
   "outputs": [],
   "source": []
  }
 ],
 "metadata": {
  "kaggle": {
   "accelerator": "none",
   "dataSources": [
    {
     "databundleVersionId": 11155209,
     "sourceId": 93654,
     "sourceType": "competition"
    }
   ],
   "dockerImageVersionId": 30919,
   "isGpuEnabled": false,
   "isInternetEnabled": true,
   "language": "python",
   "sourceType": "notebook"
  },
  "kernelspec": {
   "display_name": "Python 3",
   "language": "python",
   "name": "python3"
  },
  "language_info": {
   "codemirror_mode": {
    "name": "ipython",
    "version": 3
   },
   "file_extension": ".py",
   "mimetype": "text/x-python",
   "name": "python",
   "nbconvert_exporter": "python",
   "pygments_lexer": "ipython3",
   "version": "3.10.12"
  }
 },
 "nbformat": 4,
 "nbformat_minor": 4
}
